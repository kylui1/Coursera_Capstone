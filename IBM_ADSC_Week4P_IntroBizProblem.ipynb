{
 "cells": [
  {
   "cell_type": "markdown",
   "metadata": {},
   "source": [
    "# Introduction"
   ]
  },
  {
   "cell_type": "markdown",
   "metadata": {},
   "source": [
    "This assignment will use the Foursquare location data to solve a problem in Toronto, Canada."
   ]
  },
  {
   "cell_type": "markdown",
   "metadata": {},
   "source": [
    "# Business Problem"
   ]
  },
  {
   "cell_type": "markdown",
   "metadata": {},
   "source": [
    "Toronto is divided into various neighbourhoods. In this assignment, the neigbourhoods are defined by the postal-codes. In this assignment, we are trying out to find out which neighbourhoods are convenient to live, and present the results on the map of Toronto."
   ]
  },
  {
   "cell_type": "markdown",
   "metadata": {},
   "source": [
    "# How to measure convenience"
   ]
  },
  {
   "cell_type": "markdown",
   "metadata": {},
   "source": [
    "We can define the meaning of convenience by looking at the convenience stores. What makes a store a convenience stores? It is about the variety of goods that sold in the stores. Borrowing this concept, we can say that a neighbour is convenient if there are different variety of shops in it. "
   ]
  },
  {
   "cell_type": "markdown",
   "metadata": {},
   "source": [
    "# How to measure variety"
   ]
  },
  {
   "cell_type": "markdown",
   "metadata": {},
   "source": [
    "We can borrow the concept of entropy from Statistical Mechanics.\n",
    "\n",
    "The entropy is defined as\n",
    "    S = -$\\sum_{i=1}^n p_i logp_i$ \n",
    "\n",
    "Here, $\\ p_i$ is the frequency of each location type."
   ]
  },
  {
   "cell_type": "markdown",
   "metadata": {},
   "source": [
    "# Approach"
   ]
  },
  {
   "cell_type": "markdown",
   "metadata": {},
   "source": [
    "For each neighbourhood, its entropy is calculated. The value represent the variety of locations. In the map, for each neighbourhood, a circle is drawn and the size of the circle is related to its entropy"
   ]
  }
 ],
 "metadata": {
  "kernelspec": {
   "display_name": "Python [default]",
   "language": "python",
   "name": "python3"
  },
  "language_info": {
   "codemirror_mode": {
    "name": "ipython",
    "version": 3
   },
   "file_extension": ".py",
   "mimetype": "text/x-python",
   "name": "python",
   "nbconvert_exporter": "python",
   "pygments_lexer": "ipython3",
   "version": "3.5.6"
  }
 },
 "nbformat": 4,
 "nbformat_minor": 2
}
